{
 "cells": [
  {
   "cell_type": "code",
   "execution_count": 11,
   "id": "293f2125",
   "metadata": {},
   "outputs": [],
   "source": [
    "import numpy as np\n",
    "from matplotlib import pyplot as plt\n",
    "from patchify import patchify\n",
    "import tifffile as tiff\n",
    "from tensorflow.keras.callbacks import EarlyStopping\n",
    "import os\n",
    "from PIL import Image \n",
    "import numpy as np \n",
    "from patchify import patchify\n",
    "from sklearn.preprocessing import MinMaxScaler, StandardScaler\n",
    "from sklearn import metrics\n",
    "from matplotlib import pyplot as plt\n",
    "import random\n",
    "from osgeo import gdal\n",
    "import imageio\n",
    "from keras.models import load_model\n",
    "import os\n",
    "from PIL import Image \n",
    "import numpy as np \n",
    "from patchify import patchify\n",
    "from sklearn.preprocessing import MinMaxScaler, StandardScaler\n",
    "from osgeo import gdal\n",
    "import imageio\n",
    "from matplotlib import pyplot as plt\n",
    "import random\n",
    "from keras.optimizers import Adam\n",
    "import segmentation_models as sm"
   ]
  },
  {
   "cell_type": "code",
   "execution_count": 13,
   "id": "b77e0a06",
   "metadata": {},
   "outputs": [
    {
     "name": "stderr",
     "output_type": "stream",
     "text": [
      "/Users/macbookair/anaconda3/envs/ML/lib/python3.10/site-packages/osgeo/gdal.py:287: FutureWarning: Neither gdal.UseExceptions() nor gdal.DontUseExceptions() has been explicitly called. In GDAL 4.0, exceptions will be enabled by default.\n",
      "  warnings.warn(\n",
      "/var/folders/ks/cpcnjkt95qx6v7hynw8xydkr0000gp/T/ipykernel_53190/788469906.py:12: DeprecationWarning: Starting with ImageIO v3 the behavior of this function will switch to that of iio.v3.imread. To keep the current behavior (and make this warning disappear) use `import imageio.v2 as imageio` or call `imageio.v2.imread` directly.\n",
      "  image = imageio.imread('farm.tif')\n"
     ]
    }
   ],
   "source": [
    "# converts any image with more than 3 channels to a 3 channel image\n",
    "Gtransform = 0 # this will be used to give  the georeferenccing information to the reconstructed mask image \n",
    "Ptransform = 0 #this will be used to give  the georeferenccing information to the reconstructed mask image \n",
    "def convert_to_rgb(filename):\n",
    "    # Open the original image using GDAL\n",
    "    src_ds = gdal.Open(filename)\n",
    "    # Read the georeferencing information\n",
    "    geotransform = src_ds.GetGeoTransform()\n",
    "    projection = src_ds.GetProjection()\n",
    "    Gtransform = src_ds.GetGeoTransform()\n",
    "    Ptransform = src_ds.GetProjection()\n",
    "    # Convert the image to RGB using PIL\n",
    "    image = imageio.imread(filename)\n",
    "\n",
    "    # Convert the image to RGB\n",
    "    image = image[..., :3]\n",
    "\n",
    "    # Save the image as a TIFF file\n",
    "    imageio.imwrite(filename, image)\n",
    "\n",
    "    # Open the converted image using GDAL\n",
    "    dst_ds = gdal.Open(filename, gdal.GA_Update)\n",
    "\n",
    "    # Write the georeferencing information to the converted image\n",
    "    dst_ds.SetGeoTransform(geotransform)\n",
    "    dst_ds.SetProjection(projection)\n",
    "\n",
    "    # Close the datasets\n",
    "    src_ds = None\n",
    "    dst_ds = None"
   ]
  },
  {
   "cell_type": "code",
   "execution_count": null,
   "id": "b0613496",
   "metadata": {},
   "outputs": [],
   "source": [
    "convert(filename)"
   ]
  },
  {
   "cell_type": "code",
   "execution_count": 14,
   "id": "654a23a4",
   "metadata": {},
   "outputs": [],
   "source": [
    "large_image_stack = tiff.imread(filename)"
   ]
  },
  {
   "cell_type": "code",
   "execution_count": 15,
   "id": "891ba8f6",
   "metadata": {},
   "outputs": [],
   "source": [
    "patches_img = patchify(large_image_stack, (256, 256,3), step=256)\n",
    "all_images_patches = []\n",
    "for i in range(patches_img.shape[0]):\n",
    "    for j in range(patches_img.shape[1]):\n",
    "        single_patch_mask = patches_img[i,j,:,:]\n",
    "        min_val = single_patch_mask.min()\n",
    "        max_val = single_patch_mask.max()\n",
    "        single_patch_mask = (single_patch_mask - min_val) / (max_val - min_val)\n",
    "        single_patch_mask = single_patch_mask.astype('float32')\n",
    "        single_patch_mask = single_patch_mask[0]\n",
    "        all_images_patches.append(single_patch_mask)"
   ]
  },
  {
   "cell_type": "code",
   "execution_count": 17,
   "id": "ff35121e",
   "metadata": {},
   "outputs": [
    {
     "name": "stdout",
     "output_type": "stream",
     "text": [
      "(12, 41, 1, 256, 256, 3)\n"
     ]
    }
   ],
   "source": [
    "model = load_model(#input_model_name_here, compile=False)\n",
    "optimizer = Adam()\n",
    "model.compile(optimizer=optimizer, loss='categorical_crossentropy', metrics=['accuracy'])\n",
    "image_dataset = np.array(all_images_patches)\n",
    "predicted_classes = []\n",
    "for i in range(0,len(image_dataset[:])):\n",
    "    test_img = image_dataset[i]\n",
    "    test_img_input=np.expand_dims(test_img, 0)\n",
    "    prediction = model.predict(test_img_input)\n",
    "    prediction = prediction[0,:,:,0]\n",
    "    prediction = (prediction >= 0.5).astype(float)\n",
    "    predicted_classes.append(prediction)\n",
    "\n",
    "length = patches_img.shape[0] * patches_img.shape[3]\n",
    "breath = patches_img.shape[1] * patches_img.shape[4]\n",
    "predicted_classes_array =  np.array(predicted_classes)\n",
    "predicted_classes_array = predicted_classes_array.reshape((patches_img.shape[0],patches_img.shape[1],patches_img.shape[3],patches_img.shape[4]))\n",
    "reconstructed_image = unpatchify(predicted_classes_array, (length, breath))"
   ]
  },
  {
   "cell_type": "code",
   "execution_count": null,
   "id": "97c07f4b",
   "metadata": {},
   "outputs": [],
   "source": [
    "Filename = #input your desired file name as a string"
   ]
  },
  {
   "cell_type": "code",
   "execution_count": 38,
   "id": "c586e579",
   "metadata": {},
   "outputs": [],
   "source": [
    "imageio.imsave(Filename, reconstructed_image)"
   ]
  },
  {
   "cell_type": "code",
   "execution_count": null,
   "id": "5e4230dd",
   "metadata": {},
   "outputs": [],
   "source": [
    "dst_ds = gdal.Open(Filename, gdal.GA_Update)\n",
    "dst_ds.SetGeoTransform(geotransform)\n",
    "dst_ds.SetProjection(projection)\n",
    "\n",
    "# Close the datasets\n",
    "src_ds = None\n",
    "dst_ds = None"
   ]
  },
  {
   "cell_type": "code",
   "execution_count": null,
   "id": "62dab3d1",
   "metadata": {},
   "outputs": [],
   "source": []
  },
  {
   "cell_type": "code",
   "execution_count": null,
   "id": "9c9d2292",
   "metadata": {},
   "outputs": [],
   "source": []
  }
 ],
 "metadata": {
  "kernelspec": {
   "display_name": "Python 3 (ipykernel)",
   "language": "python",
   "name": "python3"
  },
  "language_info": {
   "codemirror_mode": {
    "name": "ipython",
    "version": 3
   },
   "file_extension": ".py",
   "mimetype": "text/x-python",
   "name": "python",
   "nbconvert_exporter": "python",
   "pygments_lexer": "ipython3",
   "version": "3.10.11"
  }
 },
 "nbformat": 4,
 "nbformat_minor": 5
}
